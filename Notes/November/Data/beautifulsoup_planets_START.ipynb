{
 "cells": [
  {
   "cell_type": "markdown",
   "metadata": {},
   "source": [
    "| DS 2500  | \n",
    "|:----------:|\n",
    "| Profs. Rachlin and Park   |  \n",
    "| Miscellaneous Data Sources |        \n",
    "    \n",
    "    "
   ]
  },
  {
   "cell_type": "markdown",
   "metadata": {},
   "source": [
    "## Screen Scraping (BeautfifulSoup)"
   ]
  },
  {
   "cell_type": "code",
   "execution_count": null,
   "metadata": {},
   "outputs": [],
   "source": [
    "import requests\n",
    "from bs4 import BeautifulSoup\n",
    "\n",
    "url = 'https://nssdc.gsfc.nasa.gov/planetary/factsheet/'\n",
    "\n",
    "\n",
    "\n",
    "\n"
   ]
  },
  {
   "cell_type": "code",
   "execution_count": null,
   "metadata": {},
   "outputs": [],
   "source": [
    "#Get the raw text\n",
    "\n"
   ]
  },
  {
   "cell_type": "code",
   "execution_count": null,
   "metadata": {},
   "outputs": [],
   "source": [
    "# Parse into fields\n",
    "\n",
    "\n",
    "\n"
   ]
  },
  {
   "cell_type": "code",
   "execution_count": null,
   "metadata": {},
   "outputs": [],
   "source": [
    "# Convert into a dataframe\n",
    "\n",
    "\n"
   ]
  },
  {
   "cell_type": "code",
   "execution_count": null,
   "metadata": {},
   "outputs": [],
   "source": [
    "# Kepler's third law of planetary motion\n",
    "# The square of the planet's orbital period is proportional to the cube of the semi-major axis (distance)\n",
    "\n",
    "dist = [float(x) for x in df.loc['Distance from Sun (106 km)']]\n",
    "period = [float(x.replace(',',''))  for x in df.loc['Orbital Period (days)']]\n",
    "diameter = [float(x.replace(',',''))/100  for x in df.loc['Diameter (km)']]\n",
    "color = ['black', 'gold', 'mediumseagreen', 'red', 'chocolate', \n",
    "         'gold', 'lightskyblue', 'teal', 'grey']\n",
    " \n",
    "import matplotlib.pyplot as plt\n"
   ]
  }
 ],
 "metadata": {
  "kernelspec": {
   "display_name": "Python 3",
   "language": "python",
   "name": "python3"
  },
  "language_info": {
   "codemirror_mode": {
    "name": "ipython",
    "version": 3
   },
   "file_extension": ".py",
   "mimetype": "text/x-python",
   "name": "python",
   "nbconvert_exporter": "python",
   "pygments_lexer": "ipython3",
   "version": "3.8.8"
  }
 },
 "nbformat": 4,
 "nbformat_minor": 2
}
